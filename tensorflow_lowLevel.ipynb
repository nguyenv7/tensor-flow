{
 "cells": [
  {
   "cell_type": "code",
   "execution_count": 1,
   "metadata": {
    "scrolled": true
   },
   "outputs": [
    {
     "name": "stderr",
     "output_type": "stream",
     "text": [
      "/work/modules/Ubuntu/14.04/amd64/common/anaconda2/latest/lib/python2.7/site-packages/h5py/__init__.py:36: FutureWarning: Conversion of the second argument of issubdtype from `float` to `np.floating` is deprecated. In future, it will be treated as `np.float64 == np.dtype(float).type`.\n",
      "  from ._conv import register_converters as _register_converters\n"
     ]
    }
   ],
   "source": [
    "from __future__ import absolute_import\n",
    "from __future__ import division\n",
    "from __future__ import print_function\n",
    "\n",
    "import numpy as np\n",
    "import tensorflow as tf"
   ]
  },
  {
   "cell_type": "markdown",
   "metadata": {},
   "source": [
    "## Tensor in numpy array"
   ]
  },
  {
   "cell_type": "code",
   "execution_count": null,
   "metadata": {},
   "outputs": [],
   "source": [
    "# Create a 3d TENSOR in numpy\n",
    "a = np.array([[[1., 2., 3.]], [[7., 8., 9.]]])"
   ]
  },
  {
   "cell_type": "code",
   "execution_count": 15,
   "metadata": {},
   "outputs": [
    {
     "data": {
      "text/plain": [
       "(2, 1, 3)"
      ]
     },
     "execution_count": 15,
     "metadata": {},
     "output_type": "execute_result"
    }
   ],
   "source": [
    "# Check the dimension \n",
    "a.shape\n",
    "# First tuple of [] contains TWO elements,\n",
    "# Each of this element contains ONE element beside the []\n",
    "# The third level of [] includes THREE elements which are scalar numbers"
   ]
  },
  {
   "cell_type": "markdown",
   "metadata": {},
   "source": [
    "## Tensorflow constant definition and session"
   ]
  },
  {
   "cell_type": "code",
   "execution_count": 18,
   "metadata": {},
   "outputs": [
    {
     "name": "stdout",
     "output_type": "stream",
     "text": [
      "Tensor(\"Const_3:0\", shape=(), dtype=float32)\n",
      "Tensor(\"Const_4:0\", shape=(), dtype=float32)\n",
      "Tensor(\"add_1:0\", shape=(), dtype=float32)\n"
     ]
    }
   ],
   "source": [
    "# Adding to tensorflow constant and check the \"inside\"\n",
    "a = tf.constant(3.0, dtype=tf.float32)\n",
    "b = tf.constant(4.0)\n",
    "total = a + b\n",
    "print(a)\n",
    "print(b)\n",
    "print(total)\n",
    "# Just the schema about what the information structure"
   ]
  },
  {
   "cell_type": "code",
   "execution_count": 17,
   "metadata": {},
   "outputs": [],
   "source": [
    "# Write the computational graph into a file -> analyse by Tensorboard\n",
    "writer = tf.summary.FileWriter('.')\n",
    "writer.add_graph(tf.get_default_graph())\n",
    "# Run command 'tensorboard --logdir .' to get the visualization"
   ]
  },
  {
   "cell_type": "code",
   "execution_count": 19,
   "metadata": {},
   "outputs": [],
   "source": [
    "# SESSION to get the actual evaluation\n",
    "# Create the session\n",
    "session1 = tf.Session()"
   ]
  },
  {
   "cell_type": "code",
   "execution_count": 24,
   "metadata": {},
   "outputs": [
    {
     "name": "stdout",
     "output_type": "stream",
     "text": [
      "<class 'tensorflow.python.client.session.Session'>\n",
      "<tensorflow.python.client.session.Session object at 0x7f5754f5c990>\n"
     ]
    }
   ],
   "source": [
    "print(type(session1))\n",
    "print(session1)"
   ]
  },
  {
   "cell_type": "code",
   "execution_count": 25,
   "metadata": {},
   "outputs": [
    {
     "name": "stdout",
     "output_type": "stream",
     "text": [
      "7.0\n"
     ]
    }
   ],
   "source": [
    "# Run the 'total' variable to pass through numbers and get the result\n",
    "print(session1.run(total))"
   ]
  },
  {
   "cell_type": "code",
   "execution_count": 26,
   "metadata": {},
   "outputs": [
    {
     "name": "stdout",
     "output_type": "stream",
     "text": [
      "{'total': 7.0, 'ab': (3.0, 4.0)}\n"
     ]
    }
   ],
   "source": [
    "# tf.Session.run() can handle 'structure' input as tuple and dictionary\n",
    "print(session1.run({'ab':(a,b) , 'total':total}))"
   ]
  },
  {
   "cell_type": "code",
   "execution_count": 28,
   "metadata": {},
   "outputs": [],
   "source": [
    "# Trying with a bigger size of Tensor\n",
    "vec = tf.random_uniform(shape=(3,)) # an array of 3 element\n",
    "out1 = vec + 1\n",
    "out2 = vec + 2"
   ]
  },
  {
   "cell_type": "code",
   "execution_count": 31,
   "metadata": {},
   "outputs": [
    {
     "name": "stdout",
     "output_type": "stream",
     "text": [
      "[0.7223319  0.41441822 0.11913502]\n"
     ]
    }
   ],
   "source": [
    "# Run for 1st time of random numbers\n",
    "print(session1.run(vec))"
   ]
  },
  {
   "cell_type": "code",
   "execution_count": 30,
   "metadata": {},
   "outputs": [
    {
     "name": "stdout",
     "output_type": "stream",
     "text": [
      "[0.6073792  0.2517655  0.56504536]\n"
     ]
    }
   ],
   "source": [
    "# Run for 2nd time of random numbers\n",
    "print(session1.run(vec))"
   ]
  },
  {
   "cell_type": "code",
   "execution_count": 33,
   "metadata": {},
   "outputs": [
    {
     "name": "stdout",
     "output_type": "stream",
     "text": [
      "(array([1.3413564, 1.8592318, 1.8292767], dtype=float32), array([2.3413563, 2.859232 , 2.8292766], dtype=float32))\n"
     ]
    }
   ],
   "source": [
    "# Run a tuple of inputs -> return a tuple\n",
    "print(session1.run((out1,out2)))"
   ]
  },
  {
   "cell_type": "markdown",
   "metadata": {},
   "source": [
    "### Placeholders for parameterize the run inputs"
   ]
  },
  {
   "cell_type": "code",
   "execution_count": 34,
   "metadata": {},
   "outputs": [],
   "source": [
    "# FEEDING: parameterize to get not constant input, external inputs (placeholder)\n",
    "# placeholder the type of data\n",
    "x = tf.placeholder(tf.float32)\n",
    "y = tf.placeholder(tf.float32)\n",
    "z = x + y"
   ]
  },
  {
   "cell_type": "code",
   "execution_count": 35,
   "metadata": {
    "scrolled": true
   },
   "outputs": [
    {
     "name": "stdout",
     "output_type": "stream",
     "text": [
      "3.4\n"
     ]
    }
   ],
   "source": [
    "# Feeding into the run function by the feed_dict parameter\n",
    "print(session1.run(z, feed_dict={x:1, y:2.4}))"
   ]
  },
  {
   "cell_type": "code",
   "execution_count": 36,
   "metadata": {},
   "outputs": [
    {
     "name": "stdout",
     "output_type": "stream",
     "text": [
      "[3.4 8. ]\n"
     ]
    }
   ],
   "source": [
    "print(session1.run(z, feed_dict={x:[1,3], y:[2.4,5]}))"
   ]
  },
  {
   "cell_type": "markdown",
   "metadata": {},
   "source": [
    "## Datasets for streaming data into model"
   ]
  },
  {
   "cell_type": "code",
   "execution_count": 42,
   "metadata": {},
   "outputs": [
    {
     "name": "stdout",
     "output_type": "stream",
     "text": [
      "[[-0.43345846  0.34598637]\n",
      " [-0.76853845 -0.20668458]\n",
      " [ 0.23660165 -1.63582336]\n",
      " [-2.04334704 -0.74773724]]\n"
     ]
    }
   ],
   "source": [
    "# Dataset -> tf.Sensor : data -> tf.data.Iterator -> Iterator.get_next()\n",
    "my_data = np.random.randn(4,2)\n",
    "print(my_data)"
   ]
  },
  {
   "cell_type": "code",
   "execution_count": 44,
   "metadata": {},
   "outputs": [],
   "source": [
    "# Convert data -> tf.data.Iterator and get_next\n",
    "slices = tf.data.Dataset.from_tensor_slices(my_data)\n",
    "next_item = slices.make_one_shot_iterator().get_next()"
   ]
  },
  {
   "cell_type": "markdown",
   "metadata": {},
   "source": [
    "##### https://www.tensorflow.org/versions/master/programmers_guide/datasets\n",
    "\n",
    "- make_one_shot_iterator()\n",
    "\n",
    "- A one-shot iterator is the simplest form of iterator, which only supports iterating once through a dataset, with no need for explicit initialization\n",
    "\n",
    "- get_next()\n",
    "- A tf.data.Iterator provides the main way to extract elements from a dataset. The operation returned by Iterator.get_next() yields the next element of a Dataset when executed, and typically acts as the interface between input pipeline code and your model"
   ]
  },
  {
   "cell_type": "code",
   "execution_count": 45,
   "metadata": {},
   "outputs": [
    {
     "name": "stdout",
     "output_type": "stream",
     "text": [
      "[-0.43345846  0.34598637]\n",
      "[-0.76853845 -0.20668458]\n",
      "[ 0.23660165 -1.63582336]\n",
      "[-2.04334704 -0.74773724]\n"
     ]
    }
   ],
   "source": [
    "# Get the data until the end of input data\n",
    "while True:\n",
    "    try:\n",
    "        print(session1.run(next_item))\n",
    "    except tf.errors.OutOfRangeError:\n",
    "        break"
   ]
  },
  {
   "cell_type": "markdown",
   "metadata": {},
   "source": [
    "## Creating layers and initializing"
   ]
  },
  {
   "cell_type": "code",
   "execution_count": 59,
   "metadata": {},
   "outputs": [],
   "source": [
    "# Creat the placeholder for the input variable with varies length but 3 features\n",
    "x = tf.placeholder(tf.float32, shape=[None,3 ])\n",
    "# One linear layer with 1 output, still don't know about the input size\n",
    "linear_model = tf.layers.Dense(units=1) # units: Integer or Long, dimensionality of the output space\n",
    "# Adding the input specification\n",
    "y = linear_model(x)"
   ]
  },
  {
   "cell_type": "code",
   "execution_count": 48,
   "metadata": {},
   "outputs": [],
   "source": [
    "# Initializing layers by the global initializer\n",
    "init = tf.global_variables_initializer()\n",
    "session1.run(init)"
   ]
  },
  {
   "cell_type": "markdown",
   "metadata": {},
   "source": [
    "### Excuting layers"
   ]
  },
  {
   "cell_type": "code",
   "execution_count": 51,
   "metadata": {},
   "outputs": [
    {
     "name": "stdout",
     "output_type": "stream",
     "text": [
      "[[-4.5577044]\n",
      " [-8.845448 ]]\n"
     ]
    }
   ],
   "source": [
    "# Passing some values into the linear model, to see the output\n",
    "print(session1.run(y, feed_dict = {x : [[1,2,3],[4,5,6]]}))"
   ]
  },
  {
   "cell_type": "markdown",
   "metadata": {},
   "source": [
    "### Faster way to do "
   ]
  },
  {
   "cell_type": "code",
   "execution_count": 62,
   "metadata": {},
   "outputs": [
    {
     "name": "stdout",
     "output_type": "stream",
     "text": [
      "[[2.6116967]\n",
      " [6.3482356]]\n"
     ]
    }
   ],
   "source": [
    "# Create the input structure frame, declare the input and put it directly\n",
    "x = tf.placeholder(tf.float32, shape=[None,3 ])\n",
    "y = tf.layers.dense(x, units=1) # NOTICED THAT: dense not Dense, they are different\n",
    "\n",
    "init = tf.global_variables_initializer()\n",
    "session1.run(init)\n",
    "\n",
    "print(session1.run(y, feed_dict={x: [[1,2,3],[4,5,6]]}))"
   ]
  },
  {
   "cell_type": "markdown",
   "metadata": {},
   "source": [
    "## Feature columns\n",
    "- to make the feature 'layout' or 'scheme' into the network"
   ]
  },
  {
   "cell_type": "markdown",
   "metadata": {},
   "source": [
    "##### The example of input data with categorical and numerical data\n",
    "- For the categorical data -> convert to 'categorical_column' -> wrap to 'indicator_column' to get the final 'dense' numeric input\n",
    "- merge array of numerical and converted categorical data together\n",
    "- Key power: tf.feature_column. xxx"
   ]
  },
  {
   "cell_type": "code",
   "execution_count": 67,
   "metadata": {},
   "outputs": [],
   "source": [
    "# Raw features (dict)\n",
    "\n",
    "features = {'sales':[[5], [10], [8], [9]] , \\\n",
    "           'department': ['sports', 'sports', 'gardening', 'gardening']}"
   ]
  },
  {
   "cell_type": "code",
   "execution_count": 68,
   "metadata": {},
   "outputs": [
    {
     "data": {
      "text/plain": [
       "{'department': ['sports', 'sports', 'gardening', 'gardening'],\n",
       " 'sales': [[5], [10], [8], [9]]}"
      ]
     },
     "execution_count": 68,
     "metadata": {},
     "output_type": "execute_result"
    }
   ],
   "source": [
    "features"
   ]
  },
  {
   "cell_type": "code",
   "execution_count": 75,
   "metadata": {},
   "outputs": [
    {
     "data": {
      "text/plain": [
       "_IndicatorColumn(categorical_column=_VocabularyListCategoricalColumn(key='department', vocabulary_list=('sports', 'gardening'), dtype=tf.string, default_value=-1, num_oov_buckets=0))"
      ]
     },
     "execution_count": 75,
     "metadata": {},
     "output_type": "execute_result"
    }
   ],
   "source": [
    "# 'Schema' definition\n",
    "# Define feature transform for the categorical data\n",
    "\n",
    "department_column = tf.feature_column.categorical_column_with_vocabulary_list\\\n",
    "('department', vocabulary_list= ['sports', 'gardening'])\n",
    "\n",
    "department_column = tf.feature_column.indicator_column(department_column)\n",
    "department_column"
   ]
  },
  {
   "cell_type": "code",
   "execution_count": 73,
   "metadata": {},
   "outputs": [
    {
     "data": {
      "text/plain": [
       "[_NumericColumn(key='sales', shape=(1,), default_value=None, dtype=tf.float32, normalizer_fn=None),\n",
       " _IndicatorColumn(categorical_column=_VocabularyListCategoricalColumn(key='department', vocabulary_list=('sports', 'gardening'), dtype=tf.string, default_value=-1, num_oov_buckets=0))]"
      ]
     },
     "execution_count": 73,
     "metadata": {},
     "output_type": "execute_result"
    }
   ],
   "source": [
    "# Define feature transform for the numeric data\n",
    "\n",
    "columns = [tf.feature_column.numeric_column('sales'), department_column]\n",
    "columns"
   ]
  },
  {
   "cell_type": "code",
   "execution_count": 76,
   "metadata": {},
   "outputs": [
    {
     "data": {
      "text/plain": [
       "<tf.Tensor 'input_layer/concat:0' shape=(4, 3) dtype=float32>"
      ]
     },
     "execution_count": 76,
     "metadata": {},
     "output_type": "execute_result"
    }
   ],
   "source": [
    "# combine of 'raw' data and the 'schema'\n",
    "\n",
    "inputs = tf.feature_column.input_layer(features, columns)\n",
    "inputs"
   ]
  },
  {
   "cell_type": "code",
   "execution_count": 77,
   "metadata": {
    "scrolled": false
   },
   "outputs": [
    {
     "data": {
      "text/plain": [
       "(None, None)"
      ]
     },
     "execution_count": 77,
     "metadata": {},
     "output_type": "execute_result"
    }
   ],
   "source": [
    "# Initializer for variables and tables\n",
    "var_init = tf.global_variables_initializer()\n",
    "table_init = tf.tables_initializer()\n",
    "session1.run((var_init, table_init))"
   ]
  },
  {
   "cell_type": "code",
   "execution_count": 79,
   "metadata": {},
   "outputs": [
    {
     "name": "stdout",
     "output_type": "stream",
     "text": [
      "[[ 1.  0.  5.]\n",
      " [ 1.  0. 10.]\n",
      " [ 0.  1.  8.]\n",
      " [ 0.  1.  9.]]\n"
     ]
    }
   ],
   "source": [
    "# Run the data processing to get the output\n",
    "print(session1.run(inputs))"
   ]
  },
  {
   "cell_type": "markdown",
   "metadata": {},
   "source": [
    "## A complete program"
   ]
  },
  {
   "cell_type": "code",
   "execution_count": 80,
   "metadata": {},
   "outputs": [],
   "source": [
    "# Define the data\n",
    "x = tf.constant([[1], [2], [3], [4] ], dtype=tf.float32)\n",
    "y_true = tf.constant([[-11], [-22], [-33], [-44] ], dtype=tf.float32)"
   ]
  },
  {
   "cell_type": "code",
   "execution_count": 81,
   "metadata": {},
   "outputs": [],
   "source": [
    "# Define the linear model\n",
    "linear_model = tf.layers.Dense(units = 1)\n",
    "y_pred = linear_model(x)"
   ]
  },
  {
   "cell_type": "code",
   "execution_count": 83,
   "metadata": {},
   "outputs": [],
   "source": [
    "# Define the loss function and the optimizer\n",
    "loss = tf.losses.mean_squared_error(labels= y_true, predictions= y_pred)\n",
    "\n",
    "optimizer = tf.train.GradientDescentOptimizer(learning_rate=0.01)\n",
    "\n",
    "# put them to the train procedure (optimizer need a loss func to minimize)\n",
    "train_prog = optimizer.minimize(loss)"
   ]
  },
  {
   "cell_type": "code",
   "execution_count": 84,
   "metadata": {},
   "outputs": [],
   "source": [
    "# Init the variables\n",
    "init = tf.global_variables_initializer()\n",
    "session2 = tf.Session()\n",
    "\n",
    "session2.run(init)"
   ]
  },
  {
   "cell_type": "code",
   "execution_count": 85,
   "metadata": {},
   "outputs": [
    {
     "name": "stdout",
     "output_type": "stream",
     "text": [
      "1193.4536\n",
      "828.85364\n",
      "575.8608\n",
      "400.31018\n",
      "278.49487\n",
      "193.96547\n",
      "135.30795\n",
      "94.60246\n",
      "66.3535\n",
      "46.747883\n",
      "33.139748\n",
      "23.693127\n",
      "17.13416\n",
      "12.578892\n",
      "9.413944\n",
      "7.2137647\n",
      "5.6830263\n",
      "4.616831\n",
      "3.8729935\n",
      "3.352855\n",
      "2.9879692\n",
      "2.7308295\n",
      "2.5484662\n",
      "2.4180255\n",
      "2.3236272\n",
      "2.2542696\n",
      "2.202303\n",
      "2.1624308\n",
      "2.1309707\n",
      "2.105371\n",
      "2.0838625\n",
      "2.0652132\n",
      "2.0485713\n",
      "2.033343\n",
      "2.0191157\n",
      "2.0056105\n",
      "1.9926219\n",
      "1.9800162\n",
      "1.9677012\n",
      "1.9556015\n",
      "1.9436787\n",
      "1.9319006\n",
      "1.9202386\n",
      "1.9086812\n",
      "1.8972154\n",
      "1.8858322\n",
      "1.8745325\n",
      "1.863308\n",
      "1.8521557\n",
      "1.8410742\n",
      "1.8300608\n",
      "1.8191121\n",
      "1.8082331\n",
      "1.7974205\n",
      "1.7866749\n",
      "1.7759907\n",
      "1.765372\n",
      "1.7548146\n",
      "1.7443225\n",
      "1.7338965\n",
      "1.7235274\n",
      "1.7132232\n",
      "1.7029787\n",
      "1.6927996\n",
      "1.6826787\n",
      "1.672616\n",
      "1.6626168\n",
      "1.6526766\n",
      "1.6427946\n",
      "1.6329725\n",
      "1.6232108\n",
      "1.6135049\n",
      "1.6038581\n",
      "1.59427\n",
      "1.5847363\n",
      "1.5752629\n",
      "1.5658444\n",
      "1.5564815\n",
      "1.5471768\n",
      "1.537925\n",
      "1.5287313\n",
      "1.5195906\n",
      "1.5105042\n",
      "1.5014741\n",
      "1.4924968\n",
      "1.4835731\n",
      "1.4747033\n",
      "1.4658858\n",
      "1.4571211\n",
      "1.4484109\n",
      "1.43975\n",
      "1.4311423\n",
      "1.4225844\n",
      "1.4140803\n",
      "1.4056256\n",
      "1.3972228\n",
      "1.3888685\n",
      "1.3805639\n",
      "1.3723085\n",
      "1.3641045\n",
      "1.3559486\n",
      "1.3478408\n",
      "1.3397835\n",
      "1.3317739\n",
      "1.3238113\n",
      "1.3158962\n",
      "1.3080297\n",
      "1.3002079\n",
      "1.2924345\n",
      "1.2847073\n",
      "1.2770259\n",
      "1.2693914\n",
      "1.2618028\n",
      "1.2542576\n",
      "1.2467588\n",
      "1.2393041\n",
      "1.2318951\n",
      "1.2245307\n",
      "1.2172091\n",
      "1.2099297\n",
      "1.2026964\n",
      "1.1955062\n",
      "1.1883587\n",
      "1.1812528\n",
      "1.1741921\n",
      "1.1671718\n",
      "1.1601917\n",
      "1.1532555\n",
      "1.1463606\n",
      "1.1395056\n",
      "1.1326929\n",
      "1.1259211\n",
      "1.1191896\n",
      "1.1124989\n",
      "1.105846\n",
      "1.099235\n",
      "1.092664\n",
      "1.0861301\n",
      "1.0796353\n",
      "1.0731817\n",
      "1.0667635\n",
      "1.0603867\n",
      "1.054048\n",
      "1.0477448\n",
      "1.0414805\n",
      "1.0352544\n",
      "1.0290645\n",
      "1.0229118\n",
      "1.0167952\n",
      "1.0107167\n",
      "1.0046744\n",
      "0.9986657\n",
      "0.99269634\n",
      "0.9867609\n",
      "0.9808619\n",
      "0.9749974\n",
      "0.9691673\n",
      "0.96337324\n",
      "0.9576134\n",
      "0.95188725\n",
      "0.9461968\n",
      "0.94053966\n",
      "0.93491536\n",
      "0.9293255\n",
      "0.9237703\n",
      "0.9182458\n",
      "0.9127567\n",
      "0.9072987\n",
      "0.90187484\n",
      "0.8964813\n",
      "0.89112246\n",
      "0.8857951\n",
      "0.8804982\n",
      "0.8752339\n",
      "0.87000084\n",
      "0.86479926\n",
      "0.85962856\n",
      "0.85449004\n",
      "0.84938043\n",
      "0.84430194\n",
      "0.839255\n",
      "0.8342367\n",
      "0.82924914\n",
      "0.8242915\n",
      "0.81936264\n",
      "0.8144643\n",
      "0.80959445\n",
      "0.8047539\n",
      "0.7999432\n",
      "0.79515934\n",
      "0.7904059\n",
      "0.7856798\n",
      "0.78098166\n",
      "0.77631205\n",
      "0.77167237\n",
      "0.7670586\n",
      "0.7624725\n",
      "0.7579124\n",
      "0.75338054\n"
     ]
    }
   ],
   "source": [
    "for i in range(199):\n",
    "    _, loss_val = session2.run((train_prog,loss)) # remember inputting tuple or dict only\n",
    "    print(loss_val)"
   ]
  },
  {
   "cell_type": "code",
   "execution_count": 86,
   "metadata": {},
   "outputs": [
    {
     "data": {
      "text/plain": [
       "array([[-12.397317],\n",
       "       [-22.677095],\n",
       "       [-32.956875],\n",
       "       [-43.236656]], dtype=float32)"
      ]
     },
     "execution_count": 86,
     "metadata": {},
     "output_type": "execute_result"
    }
   ],
   "source": [
    "session2.run(y_pred)"
   ]
  },
  {
   "cell_type": "markdown",
   "metadata": {},
   "source": [
    "## Tensorflow recap\n",
    "\n",
    "- Define the tesorflow variables\n",
    "- Write the computation around them\n",
    "- Initialize these tensor by constant val or placeholder or global initializer\n",
    "- Create the session\n",
    "- Call the session to run the wanted outputs/ operators. Inputting data here by feed or from the model definition"
   ]
  }
 ],
 "metadata": {
  "kernelspec": {
   "display_name": "Python 2",
   "language": "python",
   "name": "python2"
  },
  "language_info": {
   "codemirror_mode": {
    "name": "ipython",
    "version": 2
   },
   "file_extension": ".py",
   "mimetype": "text/x-python",
   "name": "python",
   "nbconvert_exporter": "python",
   "pygments_lexer": "ipython2",
   "version": "2.7.14"
  }
 },
 "nbformat": 4,
 "nbformat_minor": 2
}
